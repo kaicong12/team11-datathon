{
  "nbformat": 4,
  "nbformat_minor": 0,
  "metadata": {
    "colab": {
      "provenance": [],
      "authorship_tag": "ABX9TyPZCAWd2PAWik791mB77K/x",
      "include_colab_link": true
    },
    "kernelspec": {
      "name": "python3",
      "display_name": "Python 3"
    },
    "language_info": {
      "name": "python"
    }
  },
  "cells": [
    {
      "cell_type": "markdown",
      "metadata": {
        "id": "view-in-github",
        "colab_type": "text"
      },
      "source": [
        "<a href=\"https://colab.research.google.com/github/kaicong12/team11-datathon/blob/main/team11_datathon.ipynb\" target=\"_parent\"><img src=\"https://colab.research.google.com/assets/colab-badge.svg\" alt=\"Open In Colab\"/></a>"
      ]
    },
    {
      "cell_type": "code",
      "source": [
        "import pandas as pd\n",
        "from sklearn.tree import DecisionTreeRegressor\n",
        "from sklearn.model_selection import train_test_split, cross_val_score\n",
        "from sklearn.preprocessing import MinMaxScaler, LabelEncoder\n",
        "from sklearn.metrics import mean_squared_error"
      ],
      "metadata": {
        "id": "a2z7BXIqiq25"
      },
      "execution_count": 1,
      "outputs": []
    },
    {
      "cell_type": "code",
      "execution_count": 2,
      "metadata": {
        "id": "8MLk6-ZGQbfK"
      },
      "outputs": [],
      "source": [
        "filepath = '/content/team11.csv'\n",
        "data = pd.read_csv(filepath)"
      ]
    },
    {
      "cell_type": "markdown",
      "source": [
        "# 1. Remove Empty BMI value"
      ],
      "metadata": {
        "id": "PLR2Y66PxwlT"
      }
    },
    {
      "cell_type": "code",
      "source": [
        "bmi_data = pd.read_csv(filepath)\n",
        "print(\"Rows with empty bim: \", len(bmi_data[bmi_data.bmi.isnull()]))"
      ],
      "metadata": {
        "colab": {
          "base_uri": "https://localhost:8080/"
        },
        "id": "ZzUwIUA8vZ8N",
        "outputId": "e4d87188-1654-4ba9-b041-1c838e3c850d"
      },
      "execution_count": 3,
      "outputs": [
        {
          "output_type": "stream",
          "name": "stdout",
          "text": [
            "Rows with empty bim:  6878\n"
          ]
        }
      ]
    },
    {
      "cell_type": "markdown",
      "source": [
        "# 2. Exploratory Data Analysis"
      ],
      "metadata": {
        "id": "Dsf-fvUEyCbq"
      }
    },
    {
      "cell_type": "code",
      "source": [
        "pd.set_option('display.max_columns', None)"
      ],
      "metadata": {
        "id": "byT4BhBZ2z8m"
      },
      "execution_count": 4,
      "outputs": []
    },
    {
      "cell_type": "code",
      "source": [
        "# PORTUGESE/NATIVE HAWAIIAN OR OTHER PACIFIC ISLANDER\n",
        "arr = ['UNKNOWN', 'OTHER', 'UNABLE TO OBTAIN', 'PATIENT DECLINED TO ANSWER', 'MULTIPLE RACE/ETHNICITY']\n",
        "def foo(input_str):\n",
        "    if 'BLACK' in input_str:\n",
        "        return 'AFRICAN_AMERICAN'\n",
        "    else:\n",
        "        return 'NOT_BLACK'"
      ],
      "metadata": {
        "id": "fXgqoTgZTyQ6"
      },
      "execution_count": 5,
      "outputs": []
    },
    {
      "cell_type": "code",
      "source": [
        "def bin_age(age):\n",
        "    if age <= 14:\n",
        "        return 0\n",
        "    elif age <= 64:\n",
        "        return 1\n",
        "    elif age <= 89:\n",
        "        return 2\n",
        "\n",
        "new_age = data['anchor_age'].apply(bin_age)\n",
        "new_age.value_counts().plot(kind=\"pie\", autopct='%1.1f%%', legend=True)"
      ],
      "metadata": {
        "colab": {
          "base_uri": "https://localhost:8080/",
          "height": 266
        },
        "id": "XgAxzJlvhJhe",
        "outputId": "7557e22f-b50e-4ae3-9e2d-ab9d8baadfe0"
      },
      "execution_count": 6,
      "outputs": [
        {
          "output_type": "execute_result",
          "data": {
            "text/plain": [
              "<matplotlib.axes._subplots.AxesSubplot at 0x7f482b8fb2b0>"
            ]
          },
          "metadata": {},
          "execution_count": 6
        },
        {
          "output_type": "display_data",
          "data": {
            "text/plain": [
              "<Figure size 432x288 with 1 Axes>"
            ],
            "image/png": "[encoded data removed]"
          },
          "metadata": {}
        }
      ]
    },
    {
      "cell_type": "code",
      "source": [
        "\"\"\"\n",
        "UNKNOWN/OTHER/UNABLE TO ATTAIN/PATIENT DECLINED TO ANSWER/MULTIPLE RACE -> OTHER\n",
        "ASIAN -> ASIAN\n",
        "BLACK -> AFRICAN AMERICAN\n",
        "WHITE -> CAUCASIAN\n",
        "HISPANIC/SOUTH AMERICAN -> LATINO\n",
        "AMERICAN INDIAN -> NATIVE AMERICAN\n",
        "\"\"\"\n",
        "data['race_new'] = data['race'].apply(foo)"
      ],
      "metadata": {
        "id": "BQpderDRTzDv"
      },
      "execution_count": 7,
      "outputs": []
    },
    {
      "cell_type": "code",
      "source": [
        "data['race'].value_counts()"
      ],
      "metadata": {
        "colab": {
          "base_uri": "https://localhost:8080/"
        },
        "id": "mOB7Gy7b4asv",
        "outputId": "c5010758-b1c2-438e-a542-ee2d1ec53dff"
      },
      "execution_count": 40,
      "outputs": [
        {
          "output_type": "execute_result",
          "data": {
            "text/plain": [
              "WHITE                                        8946\n",
              "UNKNOWN                                      1812\n",
              "BLACK/AFRICAN AMERICAN                        978\n",
              "OTHER                                         465\n",
              "WHITE - OTHER EUROPEAN                        246\n",
              "UNABLE TO OBTAIN                              225\n",
              "ASIAN                                         197\n",
              "HISPANIC/LATINO - PUERTO RICAN                174\n",
              "HISPANIC OR LATINO                            124\n",
              "HISPANIC/LATINO - DOMINICAN                   123\n",
              "ASIAN - CHINESE                               121\n",
              "WHITE - RUSSIAN                                98\n",
              "PATIENT DECLINED TO ANSWER                     92\n",
              "BLACK/CAPE VERDEAN                             84\n",
              "BLACK/CARIBBEAN ISLAND                         70\n",
              "PORTUGUESE                                     49\n",
              "ASIAN - SOUTH EAST ASIAN                       47\n",
              "BLACK/AFRICAN                                  44\n",
              "ASIAN - ASIAN INDIAN                           39\n",
              "AMERICAN INDIAN/ALASKA NATIVE                  31\n",
              "WHITE - EASTERN EUROPEAN                       30\n",
              "HISPANIC/LATINO - GUATEMALAN                   29\n",
              "WHITE - BRAZILIAN                              26\n",
              "NATIVE HAWAIIAN OR OTHER PACIFIC ISLANDER      17\n",
              "MULTIPLE RACE/ETHNICITY                        14\n",
              "ASIAN - KOREAN                                 13\n",
              "HISPANIC/LATINO - CUBAN                        13\n",
              "HISPANIC/LATINO - CENTRAL AMERICAN             12\n",
              "HISPANIC/LATINO - SALVADORAN                   10\n",
              "HISPANIC/LATINO - MEXICAN                       9\n",
              "SOUTH AMERICAN                                  9\n",
              "HISPANIC/LATINO - COLUMBIAN                     9\n",
              "HISPANIC/LATINO - HONDURAN                      8\n",
              "Name: race, dtype: int64"
            ]
          },
          "metadata": {},
          "execution_count": 40
        }
      ]
    },
    {
      "cell_type": "markdown",
      "source": [
        "## Remove top and bottom 25 quartile of BMI\n",
        "## Most of the population removed are white\n",
        " "
      ],
      "metadata": {
        "id": "FjkI_FKh9xMN"
      }
    },
    {
      "cell_type": "code",
      "source": [
        "cols= ['bmi']\n",
        "Q1 = data[cols].quantile(0.25)\n",
        "Q3 = data[cols].quantile(0.75)\n",
        "IQR = Q3 - Q1\n",
        "\n",
        "rows_removed = data[((data[cols] < (Q1 - 1.5 * IQR)) |(data[cols] > (Q3 + 1.5 * IQR))).any(axis=1)]\n",
        "print(\"Rows to be removed from bmi \", len(rows_removed))\n",
        "\n",
        "data = data[~((data[cols] < (Q1 - 1.5 * IQR)) |(data[cols] > (Q3 + 1.5 * IQR))).any(axis=1)]\n",
        "data = data[~data.bmi.isnull()].reset_index(drop=True)\n",
        "print(\"Rows left \", len(data))"
      ],
      "metadata": {
        "colab": {
          "base_uri": "https://localhost:8080/"
        },
        "id": "IFar3AGW6m2r",
        "outputId": "ce79bc6a-a6d3-432d-cb5f-75baf62e9144"
      },
      "execution_count": 8,
      "outputs": [
        {
          "output_type": "stream",
          "name": "stdout",
          "text": [
            "Rows to be removed from bmi  577\n",
            "Rows left  14615\n"
          ]
        }
      ]
    },
    {
      "cell_type": "markdown",
      "source": [
        "## Remove patients with los < 1\n",
        "## Most of the patients removed are white\n",
        "- CAUCASIAN             264\n",
        "- OTHERS                117\n",
        "- AFRICAN AMERICAN       36\n",
        "- LATINO                 19\n",
        "- ASIAN                  10\n",
        "- NATIVE AMERICAN         1"
      ],
      "metadata": {
        "id": "SdRKZAMP_46e"
      }
    },
    {
      "cell_type": "code",
      "source": [
        "rows_removed_los = len(data[data.los<1])\n",
        "print(\"Rows to be removed from los \", rows_removed_los)\n",
        "\n",
        "data = data[data.los>=1].reset_index(drop=True)\n",
        "print(\"Rows left \", len(data))"
      ],
      "metadata": {
        "colab": {
          "base_uri": "https://localhost:8080/"
        },
        "id": "FLzRwUg-7ut2",
        "outputId": "8c2b6e70-1426-4ce9-c514-d6bd75a1adb6"
      },
      "execution_count": 9,
      "outputs": [
        {
          "output_type": "stream",
          "name": "stdout",
          "text": [
            "Rows to be removed from los  451\n",
            "Rows left  14164\n"
          ]
        }
      ]
    },
    {
      "cell_type": "code",
      "source": [
        "data"
      ],
      "metadata": {
        "colab": {
          "base_uri": "https://localhost:8080/",
          "height": 574
        },
        "id": "C01szQX9A3l8",
        "outputId": "ddc9a684-ef95-42c1-f472-523218b48967"
      },
      "execution_count": 10,
      "outputs": [
        {
          "output_type": "execute_result",
          "data": {
            "text/plain": [
              "       Unnamed: 0  subject_id   stay_id  height_admit  weight_admit  \\\n",
              "0               0    10001884  37510196          1.57          65.0   \n",
              "1               1    10002013  39060235          1.57          96.0   \n",
              "2               4    10002527  37121704          1.60          80.1   \n",
              "3               5    10002760  31831386          1.85          91.0   \n",
              "4               6    10003400  32128372          1.68          93.0   \n",
              "...           ...         ...       ...           ...           ...   \n",
              "14159       22061    19997843  32880062          1.57          70.0   \n",
              "14160       22065    19998843  30988867          1.80          90.0   \n",
              "14161       22066    19999287  35165301          1.65          86.2   \n",
              "14162       22067    19999442  32336619          1.93         107.5   \n",
              "14163       22068    19999840  38978960          1.78          77.5   \n",
              "\n",
              "             bmi ventilation_status  ventilation_duration        los  \\\n",
              "0      26.370238       InvasiveVent                412800   9.171817   \n",
              "1      38.946813       InvasiveVent                 25200   1.314352   \n",
              "2      31.289062       InvasiveVent                 41160   1.438519   \n",
              "3      26.588751       InvasiveVent                 62640   1.045868   \n",
              "4      32.950680       InvasiveVent                 30180  12.911308   \n",
              "...          ...                ...                   ...        ...   \n",
              "14159  28.398718       InvasiveVent                 86400   2.849583   \n",
              "14160  27.777778       InvasiveVent                169200   3.338646   \n",
              "14161  31.662075       InvasiveVent                 48000   4.705752   \n",
              "14162  28.859835       InvasiveVent                 11460   6.950370   \n",
              "14163  24.460295       InvasiveVent                441180   5.297766   \n",
              "\n",
              "       sum_total_turn  daily_turn_rate  sum_total_oc  daily_oc_rate  \\\n",
              "0                 105        11.448113            60       6.541779   \n",
              "1                  11         8.369144             1       0.760831   \n",
              "2                   7         4.866117             1       0.695160   \n",
              "3                  10         9.561436             4       3.824574   \n",
              "4                 143        11.075563            73       5.653959   \n",
              "...               ...              ...           ...            ...   \n",
              "14159              28         9.825998            17       5.965784   \n",
              "14160              30         8.985679            20       5.990453   \n",
              "14161              41         8.712741             8       1.700047   \n",
              "14162              57         8.201002            30       4.316317   \n",
              "14163              49         9.249181            43       8.116628   \n",
              "\n",
              "                         race insurance  sapsii_prob gender  anchor_age  \\\n",
              "0      BLACK/AFRICAN AMERICAN  Medicare     0.326364      F          68   \n",
              "1                       WHITE  Medicaid     0.128048      F          53   \n",
              "2                       WHITE     Other     0.116839      M          50   \n",
              "3            UNABLE TO OBTAIN     Other     0.152870      M          56   \n",
              "4      BLACK/AFRICAN AMERICAN  Medicare     0.995367      F          72   \n",
              "...                       ...       ...          ...    ...         ...   \n",
              "14159                 UNKNOWN     Other     0.096698      M          47   \n",
              "14160                 UNKNOWN     Other     0.680887      M          45   \n",
              "14161  BLACK/AFRICAN AMERICAN  Medicare     0.046739      F          71   \n",
              "14162                   WHITE     Other     0.017445      M          41   \n",
              "14163                   WHITE     Other     0.597588      M          58   \n",
              "\n",
              "       anchor_year anchor_year_group          race_new  \n",
              "0             2122       2008 - 2010  AFRICAN_AMERICAN  \n",
              "1             2156       2008 - 2010         NOT_BLACK  \n",
              "2             2136       2008 - 2010         NOT_BLACK  \n",
              "3             2141       2008 - 2010         NOT_BLACK  \n",
              "4             2134       2011 - 2013  AFRICAN_AMERICAN  \n",
              "...            ...               ...               ...  \n",
              "14159         2120       2017 - 2019         NOT_BLACK  \n",
              "14160         2187       2011 - 2013         NOT_BLACK  \n",
              "14161         2191       2008 - 2010  AFRICAN_AMERICAN  \n",
              "14162         2146       2008 - 2010         NOT_BLACK  \n",
              "14163         2164       2008 - 2010         NOT_BLACK  \n",
              "\n",
              "[14164 rows x 21 columns]"
            ],
            "text/html": [
              "\n",
              "  <div id=\"df-c4d26b80-1757-4dcb-b9f3-80293e16d697\">\n",
              "    <div class=\"colab-df-container\">\n",
              "      <div>\n",
              "<style scoped>\n",
              "    .dataframe tbody tr th:only-of-type {\n",
              "        vertical-align: middle;\n",
              "    }\n",
              "\n",
              "    .dataframe tbody tr th {\n",
              "        vertical-align: top;\n",
              "    }\n",
              "\n",
              "    .dataframe thead th {\n",
              "        text-align: right;\n",
              "    }\n",
              "</style>\n",
              "<table border=\"1\" class=\"dataframe\">\n",
              "  <thead>\n",
              "    <tr style=\"text-align: right;\">\n",
              "      <th></th>\n",
              "      <th>Unnamed: 0</th>\n",
              "      <th>subject_id</th>\n",
              "      <th>stay_id</th>\n",
              "      <th>height_admit</th>\n",
              "      <th>weight_admit</th>\n",
              "      <th>bmi</th>\n",
              "      <th>ventilation_status</th>\n",
              "      <th>ventilation_duration</th>\n",
              "      <th>los</th>\n",
              "      <th>sum_total_turn</th>\n",
              "      <th>daily_turn_rate</th>\n",
              "      <th>sum_total_oc</th>\n",
              "      <th>daily_oc_rate</th>\n",
              "      <th>race</th>\n",
              "      <th>insurance</th>\n",
              "      <th>sapsii_prob</th>\n",
              "      <th>gender</th>\n",
              "      <th>anchor_age</th>\n",
              "      <th>anchor_year</th>\n",
              "      <th>anchor_year_group</th>\n",
              "      <th>race_new</th>\n",
              "    </tr>\n",
              "  </thead>\n",
              "  <tbody>\n",
              "    <tr>\n",
              "      <th>0</th>\n",
              "      <td>0</td>\n",
              "      <td>10001884</td>\n",
              "      <td>37510196</td>\n",
              "      <td>1.57</td>\n",
              "      <td>65.0</td>\n",
              "      <td>26.370238</td>\n",
              "      <td>InvasiveVent</td>\n",
              "      <td>412800</td>\n",
              "      <td>9.171817</td>\n",
              "      <td>105</td>\n",
              "      <td>11.448113</td>\n",
              "      <td>60</td>\n",
              "      <td>6.541779</td>\n",
              "      <td>BLACK/AFRICAN AMERICAN</td>\n",
              "      <td>Medicare</td>\n",
              "      <td>0.326364</td>\n",
              "      <td>F</td>\n",
              "      <td>68</td>\n",
              "      <td>2122</td>\n",
              "      <td>2008 - 2010</td>\n",
              "      <td>AFRICAN_AMERICAN</td>\n",
              "    </tr>\n",
              "    <tr>\n",
              "      <th>1</th>\n",
              "      <td>1</td>\n",
              "      <td>10002013</td>\n",
              "      <td>39060235</td>\n",
              "      <td>1.57</td>\n",
              "      <td>96.0</td>\n",
              "      <td>38.946813</td>\n",
              "      <td>InvasiveVent</td>\n",
              "      <td>25200</td>\n",
              "      <td>1.314352</td>\n",
              "      <td>11</td>\n",
              "      <td>8.369144</td>\n",
              "      <td>1</td>\n",
              "      <td>0.760831</td>\n",
              "      <td>WHITE</td>\n",
              "      <td>Medicaid</td>\n",
              "      <td>0.128048</td>\n",
              "      <td>F</td>\n",
              "      <td>53</td>\n",
              "      <td>2156</td>\n",
              "      <td>2008 - 2010</td>\n",
              "      <td>NOT_BLACK</td>\n",
              "    </tr>\n",
              "    <tr>\n",
              "      <th>2</th>\n",
              "      <td>4</td>\n",
              "      <td>10002527</td>\n",
              "      <td>37121704</td>\n",
              "      <td>1.60</td>\n",
              "      <td>80.1</td>\n",
              "      <td>31.289062</td>\n",
              "      <td>InvasiveVent</td>\n",
              "      <td>41160</td>\n",
              "      <td>1.438519</td>\n",
              "      <td>7</td>\n",
              "      <td>4.866117</td>\n",
              "      <td>1</td>\n",
              "      <td>0.695160</td>\n",
              "      <td>WHITE</td>\n",
              "      <td>Other</td>\n",
              "      <td>0.116839</td>\n",
              "      <td>M</td>\n",
              "      <td>50</td>\n",
              "      <td>2136</td>\n",
              "      <td>2008 - 2010</td>\n",
              "      <td>NOT_BLACK</td>\n",
              "    </tr>\n",
              "    <tr>\n",
              "      <th>3</th>\n",
              "      <td>5</td>\n",
              "      <td>10002760</td>\n",
              "      <td>31831386</td>\n",
              "      <td>1.85</td>\n",
              "      <td>91.0</td>\n",
              "      <td>26.588751</td>\n",
              "      <td>InvasiveVent</td>\n",
              "      <td>62640</td>\n",
              "      <td>1.045868</td>\n",
              "      <td>10</td>\n",
              "      <td>9.561436</td>\n",
              "      <td>4</td>\n",
              "      <td>3.824574</td>\n",
              "      <td>UNABLE TO OBTAIN</td>\n",
              "      <td>Other</td>\n",
              "      <td>0.152870</td>\n",
              "      <td>M</td>\n",
              "      <td>56</td>\n",
              "      <td>2141</td>\n",
              "      <td>2008 - 2010</td>\n",
              "      <td>NOT_BLACK</td>\n",
              "    </tr>\n",
              "    <tr>\n",
              "      <th>4</th>\n",
              "      <td>6</td>\n",
              "      <td>10003400</td>\n",
              "      <td>32128372</td>\n",
              "      <td>1.68</td>\n",
              "      <td>93.0</td>\n",
              "      <td>32.950680</td>\n",
              "      <td>InvasiveVent</td>\n",
              "      <td>30180</td>\n",
              "      <td>12.911308</td>\n",
              "      <td>143</td>\n",
              "      <td>11.075563</td>\n",
              "      <td>73</td>\n",
              "      <td>5.653959</td>\n",
              "      <td>BLACK/AFRICAN AMERICAN</td>\n",
              "      <td>Medicare</td>\n",
              "      <td>0.995367</td>\n",
              "      <td>F</td>\n",
              "      <td>72</td>\n",
              "      <td>2134</td>\n",
              "      <td>2011 - 2013</td>\n",
              "      <td>AFRICAN_AMERICAN</td>\n",
              "    </tr>\n",
              "    <tr>\n",
              "      <th>...</th>\n",
              "      <td>...</td>\n",
              "      <td>...</td>\n",
              "      <td>...</td>\n",
              "      <td>...</td>\n",
              "      <td>...</td>\n",
              "      <td>...</td>\n",
              "      <td>...</td>\n",
              "      <td>...</td>\n",
              "      <td>...</td>\n",
              "      <td>...</td>\n",
              "      <td>...</td>\n",
              "      <td>...</td>\n",
              "      <td>...</td>\n",
              "      <td>...</td>\n",
              "      <td>...</td>\n",
              "      <td>...</td>\n",
              "      <td>...</td>\n",
              "      <td>...</td>\n",
              "      <td>...</td>\n",
              "      <td>...</td>\n",
              "      <td>...</td>\n",
              "    </tr>\n",
              "    <tr>\n",
              "      <th>14159</th>\n",
              "      <td>22061</td>\n",
              "      <td>19997843</td>\n",
              "      <td>32880062</td>\n",
              "      <td>1.57</td>\n",
              "      <td>70.0</td>\n",
              "      <td>28.398718</td>\n",
              "      <td>InvasiveVent</td>\n",
              "      <td>86400</td>\n",
              "      <td>2.849583</td>\n",
              "      <td>28</td>\n",
              "      <td>9.825998</td>\n",
              "      <td>17</td>\n",
              "      <td>5.965784</td>\n",
              "      <td>UNKNOWN</td>\n",
              "      <td>Other</td>\n",
              "      <td>0.096698</td>\n",
              "      <td>M</td>\n",
              "      <td>47</td>\n",
              "      <td>2120</td>\n",
              "      <td>2017 - 2019</td>\n",
              "      <td>NOT_BLACK</td>\n",
              "    </tr>\n",
              "    <tr>\n",
              "      <th>14160</th>\n",
              "      <td>22065</td>\n",
              "      <td>19998843</td>\n",
              "      <td>30988867</td>\n",
              "      <td>1.80</td>\n",
              "      <td>90.0</td>\n",
              "      <td>27.777778</td>\n",
              "      <td>InvasiveVent</td>\n",
              "      <td>169200</td>\n",
              "      <td>3.338646</td>\n",
              "      <td>30</td>\n",
              "      <td>8.985679</td>\n",
              "      <td>20</td>\n",
              "      <td>5.990453</td>\n",
              "      <td>UNKNOWN</td>\n",
              "      <td>Other</td>\n",
              "      <td>0.680887</td>\n",
              "      <td>M</td>\n",
              "      <td>45</td>\n",
              "      <td>2187</td>\n",
              "      <td>2011 - 2013</td>\n",
              "      <td>NOT_BLACK</td>\n",
              "    </tr>\n",
              "    <tr>\n",
              "      <th>14161</th>\n",
              "      <td>22066</td>\n",
              "      <td>19999287</td>\n",
              "      <td>35165301</td>\n",
              "      <td>1.65</td>\n",
              "      <td>86.2</td>\n",
              "      <td>31.662075</td>\n",
              "      <td>InvasiveVent</td>\n",
              "      <td>48000</td>\n",
              "      <td>4.705752</td>\n",
              "      <td>41</td>\n",
              "      <td>8.712741</td>\n",
              "      <td>8</td>\n",
              "      <td>1.700047</td>\n",
              "      <td>BLACK/AFRICAN AMERICAN</td>\n",
              "      <td>Medicare</td>\n",
              "      <td>0.046739</td>\n",
              "      <td>F</td>\n",
              "      <td>71</td>\n",
              "      <td>2191</td>\n",
              "      <td>2008 - 2010</td>\n",
              "      <td>AFRICAN_AMERICAN</td>\n",
              "    </tr>\n",
              "    <tr>\n",
              "      <th>14162</th>\n",
              "      <td>22067</td>\n",
              "      <td>19999442</td>\n",
              "      <td>32336619</td>\n",
              "      <td>1.93</td>\n",
              "      <td>107.5</td>\n",
              "      <td>28.859835</td>\n",
              "      <td>InvasiveVent</td>\n",
              "      <td>11460</td>\n",
              "      <td>6.950370</td>\n",
              "      <td>57</td>\n",
              "      <td>8.201002</td>\n",
              "      <td>30</td>\n",
              "      <td>4.316317</td>\n",
              "      <td>WHITE</td>\n",
              "      <td>Other</td>\n",
              "      <td>0.017445</td>\n",
              "      <td>M</td>\n",
              "      <td>41</td>\n",
              "      <td>2146</td>\n",
              "      <td>2008 - 2010</td>\n",
              "      <td>NOT_BLACK</td>\n",
              "    </tr>\n",
              "    <tr>\n",
              "      <th>14163</th>\n",
              "      <td>22068</td>\n",
              "      <td>19999840</td>\n",
              "      <td>38978960</td>\n",
              "      <td>1.78</td>\n",
              "      <td>77.5</td>\n",
              "      <td>24.460295</td>\n",
              "      <td>InvasiveVent</td>\n",
              "      <td>441180</td>\n",
              "      <td>5.297766</td>\n",
              "      <td>49</td>\n",
              "      <td>9.249181</td>\n",
              "      <td>43</td>\n",
              "      <td>8.116628</td>\n",
              "      <td>WHITE</td>\n",
              "      <td>Other</td>\n",
              "      <td>0.597588</td>\n",
              "      <td>M</td>\n",
              "      <td>58</td>\n",
              "      <td>2164</td>\n",
              "      <td>2008 - 2010</td>\n",
              "      <td>NOT_BLACK</td>\n",
              "    </tr>\n",
              "  </tbody>\n",
              "</table>\n",
              "<p>14164 rows × 21 columns</p>\n",
              "</div>\n",
              "      <button class=\"colab-df-convert\" onclick=\"convertToInteractive('df-c4d26b80-1757-4dcb-b9f3-80293e16d697')\"\n",
              "              title=\"Convert this dataframe to an interactive table.\"\n",
              "              style=\"display:none;\">\n",
              "        \n",
              "  <svg xmlns=\"http://www.w3.org/2000/svg\" height=\"24px\"viewBox=\"0 0 24 24\"\n",
              "       width=\"24px\">\n",
              "    <path d=\"M0 0h24v24H0V0z\" fill=\"none\"/>\n",
              "    <path d=\"M18.56 5.44l.94 2.06.94-2.06 2.06-.94-2.06-.94-.94-2.06-.94 2.06-2.06.94zm-11 1L8.5 8.5l.94-2.06 2.06-.94-2.06-.94L8.5 2.5l-.94 2.06-2.06.94zm10 10l.94 2.06.94-2.06 2.06-.94-2.06-.94-.94-2.06-.94 2.06-2.06.94z\"/><path d=\"M17.41 7.96l-1.37-1.37c-.4-.4-.92-.59-1.43-.59-.52 0-1.04.2-1.43.59L10.3 9.45l-7.72 7.72c-.78.78-.78 2.05 0 2.83L4 21.41c.39.39.9.59 1.41.59.51 0 1.02-.2 1.41-.59l7.78-7.78 2.81-2.81c.8-.78.8-2.07 0-2.86zM5.41 20L4 18.59l7.72-7.72 1.47 1.35L5.41 20z\"/>\n",
              "  </svg>\n",
              "      </button>\n",
              "      \n",
              "  <style>\n",
              "    .colab-df-container {\n",
              "      display:flex;\n",
              "      flex-wrap:wrap;\n",
              "      gap: 12px;\n",
              "    }\n",
              "\n",
              "    .colab-df-convert {\n",
              "      background-color: #E8F0FE;\n",
              "      border: none;\n",
              "      border-radius: 50%;\n",
              "      cursor: pointer;\n",
              "      display: none;\n",
              "      fill: #1967D2;\n",
              "      height: 32px;\n",
              "      padding: 0 0 0 0;\n",
              "      width: 32px;\n",
              "    }\n",
              "\n",
              "    .colab-df-convert:hover {\n",
              "      background-color: #E2EBFA;\n",
              "      box-shadow: 0px 1px 2px rgba(60, 64, 67, 0.3), 0px 1px 3px 1px rgba(60, 64, 67, 0.15);\n",
              "      fill: #174EA6;\n",
              "    }\n",
              "\n",
              "    [theme=dark] .colab-df-convert {\n",
              "      background-color: #3B4455;\n",
              "      fill: #D2E3FC;\n",
              "    }\n",
              "\n",
              "    [theme=dark] .colab-df-convert:hover {\n",
              "      background-color: #434B5C;\n",
              "      box-shadow: 0px 1px 3px 1px rgba(0, 0, 0, 0.15);\n",
              "      filter: drop-shadow(0px 1px 2px rgba(0, 0, 0, 0.3));\n",
              "      fill: #FFFFFF;\n",
              "    }\n",
              "  </style>\n",
              "\n",
              "      <script>\n",
              "        const buttonEl =\n",
              "          document.querySelector('#df-c4d26b80-1757-4dcb-b9f3-80293e16d697 button.colab-df-convert');\n",
              "        buttonEl.style.display =\n",
              "          google.colab.kernel.accessAllowed ? 'block' : 'none';\n",
              "\n",
              "        async function convertToInteractive(key) {\n",
              "          const element = document.querySelector('#df-c4d26b80-1757-4dcb-b9f3-80293e16d697');\n",
              "          const dataTable =\n",
              "            await google.colab.kernel.invokeFunction('convertToInteractive',\n",
              "                                                     [key], {});\n",
              "          if (!dataTable) return;\n",
              "\n",
              "          const docLinkHtml = 'Like what you see? Visit the ' +\n",
              "            '<a target=\"_blank\" href=https://colab.research.google.com/notebooks/data_table.ipynb>data table notebook</a>'\n",
              "            + ' to learn more about interactive tables.';\n",
              "          element.innerHTML = '';\n",
              "          dataTable['output_type'] = 'display_data';\n",
              "          await google.colab.output.renderOutput(dataTable, element);\n",
              "          const docLink = document.createElement('div');\n",
              "          docLink.innerHTML = docLinkHtml;\n",
              "          element.appendChild(docLink);\n",
              "        }\n",
              "      </script>\n",
              "    </div>\n",
              "  </div>\n",
              "  "
            ]
          },
          "metadata": {},
          "execution_count": 10
        }
      ]
    },
    {
      "cell_type": "code",
      "source": [
        "data.to_csv('cleaned_team11.csv')"
      ],
      "metadata": {
        "id": "wId-PMU7b3z9"
      },
      "execution_count": 11,
      "outputs": []
    },
    {
      "cell_type": "markdown",
      "source": [
        "# 3. Pick out some variables for decision tree"
      ],
      "metadata": {
        "id": "zWAxJHPsiOUo"
      }
    },
    {
      "cell_type": "code",
      "source": [
        "cols_interest = [\n",
        "    'bmi', \n",
        "    'ventilation_duration', \n",
        "    'sapsii_prob', \n",
        "    # next 3 are categorical variables to be LabelEncoded\n",
        "    'enc_insurance', \n",
        "    'enc_gender', \n",
        "    'enc_race_new'\n",
        "]\n",
        "\n",
        "# 'daily_turn_rate'\n",
        "target_variables = ['daily_turn_rate']"
      ],
      "metadata": {
        "id": "J-S6TEdKXFg8"
      },
      "execution_count": 12,
      "outputs": []
    },
    {
      "cell_type": "code",
      "source": [
        "# label encode categorical variables\n",
        "categorical_variables = [\n",
        "    'insurance', \n",
        "    'gender', \n",
        "    'race_new'\n",
        "]\n",
        "categorical_df = pd.DataFrame()\n",
        "\n",
        "for var in categorical_variables:\n",
        "    le = LabelEncoder()\n",
        "    categorical_df[f'enc_{var}'] = le.fit_transform(data[var])"
      ],
      "metadata": {
        "id": "G4BSYWF5kn-K"
      },
      "execution_count": 13,
      "outputs": []
    },
    {
      "cell_type": "code",
      "source": [
        "numerical_df = data[cols_interest[:len(cols_interest)-3]]"
      ],
      "metadata": {
        "id": "O_07XzeokPcZ"
      },
      "execution_count": 28,
      "outputs": []
    },
    {
      "cell_type": "code",
      "source": [
        "# df = pd.concat([df, categorical_df, data[target_variables]], axis=1)\n",
        "df = pd.concat([numerical_df, categorical_df, data[target_variables]], axis=1)\n",
        "df = df.dropna()"
      ],
      "metadata": {
        "id": "EOlRSr-AmAOr"
      },
      "execution_count": 15,
      "outputs": []
    },
    {
      "cell_type": "code",
      "source": [
        "train_df = df[cols_interest]\n",
        "target = df[target_variables]\n",
        "X_train, X_test, y_train, y_test = train_test_split(train_df, target, test_size=0.33, random_state=42)"
      ],
      "metadata": {
        "id": "ucfWSl9YdHnU"
      },
      "execution_count": 16,
      "outputs": []
    },
    {
      "cell_type": "code",
      "source": [
        "X_train[\"enc_race_new\"].value_counts()"
      ],
      "metadata": {
        "colab": {
          "base_uri": "https://localhost:8080/"
        },
        "id": "ghHYg_NiILF6",
        "outputId": "4047a328-55c8-4958-f9f1-721fff8980d3"
      },
      "execution_count": 17,
      "outputs": [
        {
          "output_type": "execute_result",
          "data": {
            "text/plain": [
              "1    8708\n",
              "0     781\n",
              "Name: enc_race_new, dtype: int64"
            ]
          },
          "metadata": {},
          "execution_count": 17
        }
      ]
    },
    {
      "cell_type": "code",
      "source": [
        "regressor = DecisionTreeRegressor(random_state=0)\n",
        "# regressor.fit(X_train, y_train)\n",
        "\n",
        "# prediction = regressor.predict(X_test)\n",
        "# mean_squared_error(prediction, y_test)\n",
        "cross_val_score(regressor, train_df, target, cv=10, scoring='neg_mean_squared_error')"
      ],
      "metadata": {
        "colab": {
          "base_uri": "https://localhost:8080/"
        },
        "id": "OBcgPcANgdPY",
        "outputId": "ea8a1d59-7b31-43f6-89e4-702b79897af9"
      },
      "execution_count": 18,
      "outputs": [
        {
          "output_type": "execute_result",
          "data": {
            "text/plain": [
              "array([-8.67032375, -8.39762092, -8.76274557, -7.91609058, -8.67812018,\n",
              "       -8.19157114, -8.49047133, -8.8905223 , -9.34795346, -7.9273429 ])"
            ]
          },
          "metadata": {},
          "execution_count": 18
        }
      ]
    },
    {
      "cell_type": "code",
      "source": [
        "import numpy as np\n",
        "\n",
        "# RMSE larger than mean of prediction, bad prediction\n",
        "np.mean(y_test)"
      ],
      "metadata": {
        "colab": {
          "base_uri": "https://localhost:8080/"
        },
        "id": "6ccuIT8tm3pf",
        "outputId": "a772b265-2931-4912-db79-510de434e838"
      },
      "execution_count": 19,
      "outputs": [
        {
          "output_type": "execute_result",
          "data": {
            "text/plain": [
              "daily_turn_rate    9.451794\n",
              "dtype: float64"
            ]
          },
          "metadata": {},
          "execution_count": 19
        }
      ]
    },
    {
      "cell_type": "markdown",
      "source": [
        "# 4. Try Linear Regression"
      ],
      "metadata": {
        "id": "p8rO-FUGrL7j"
      }
    },
    {
      "cell_type": "code",
      "source": [
        "import seaborn as sns\n",
        "\n",
        "corr_matrix = numerical_df.corr()\n",
        "sns.heatmap(corr_matrix, annot=True)"
      ],
      "metadata": {
        "colab": {
          "base_uri": "https://localhost:8080/",
          "height": 288
        },
        "id": "7WrtOitZoaZJ",
        "outputId": "67486abe-5d86-437f-870f-7a518b0c4bf0"
      },
      "execution_count": 20,
      "outputs": [
        {
          "output_type": "execute_result",
          "data": {
            "text/plain": [
              "<matplotlib.axes._subplots.AxesSubplot at 0x7f482b0d4e50>"
            ]
          },
          "metadata": {},
          "execution_count": 20
        },
        {
          "output_type": "display_data",
          "data": {
            "text/plain": [
              "<Figure size 432x288 with 2 Axes>"
            ],
            "image/png": "[encoded data removed]"
          },
          "metadata": {
            "needs_background": "light"
          }
        }
      ]
    },
    {
      "cell_type": "code",
      "source": [
        "import statsmodels.formula.api as sm\n",
        "\n",
        "ols_cols = cols_interest = [\n",
        "    'bmi', \n",
        "    'ventilation_duration', \n",
        "    'sapsii_prob', \n",
        "    'anchor_age',\n",
        "    # next 3 are categorical variables to be LabelEncoded\n",
        "    'insurance', \n",
        "    'gender', \n",
        "    'race_new',\n",
        "    'sum_total_turn'\n",
        "]\n",
        "\n",
        "ols_df = data[ols_cols].dropna()\n",
        "\n",
        "\n",
        "def enc_bmi(bmi):\n",
        "    if bmi <= 25:\n",
        "        return 'Normal'\n",
        "    elif bmi <= 30:\n",
        "        return 'Overweight'\n",
        "    elif bmi <= 35:\n",
        "        return 'Obese'\n",
        "    else:\n",
        "        return 'Morbidly Obese'\n",
        "\n",
        "ols_df['enc_bmi'] = ols_df['bmi'].apply(enc_bmi)"
      ],
      "metadata": {
        "id": "ZWn7QeIXrvQ0"
      },
      "execution_count": 24,
      "outputs": []
    },
    {
      "cell_type": "code",
      "source": [
        "ols_df "
      ],
      "metadata": {
        "colab": {
          "base_uri": "https://localhost:8080/",
          "height": 485
        },
        "id": "QnAgE6XPV_hV",
        "outputId": "8eaf1026-0e54-4164-a882-b1507c3d8367"
      },
      "execution_count": 25,
      "outputs": [
        {
          "output_type": "execute_result",
          "data": {
            "text/plain": [
              "             bmi  ventilation_duration  sapsii_prob  anchor_age insurance  \\\n",
              "0      26.370238                412800     0.326364          68  Medicare   \n",
              "1      38.946813                 25200     0.128048          53  Medicaid   \n",
              "2      31.289062                 41160     0.116839          50     Other   \n",
              "3      26.588751                 62640     0.152870          56     Other   \n",
              "4      32.950680                 30180     0.995367          72  Medicare   \n",
              "...          ...                   ...          ...         ...       ...   \n",
              "14159  28.398718                 86400     0.096698          47     Other   \n",
              "14160  27.777778                169200     0.680887          45     Other   \n",
              "14161  31.662075                 48000     0.046739          71  Medicare   \n",
              "14162  28.859835                 11460     0.017445          41     Other   \n",
              "14163  24.460295                441180     0.597588          58     Other   \n",
              "\n",
              "      gender          race_new  sum_total_turn         enc_bmi  \n",
              "0          F  AFRICAN_AMERICAN             105      Overweight  \n",
              "1          F         NOT_BLACK              11  Morbidly Obese  \n",
              "2          M         NOT_BLACK               7           Obese  \n",
              "3          M         NOT_BLACK              10      Overweight  \n",
              "4          F  AFRICAN_AMERICAN             143           Obese  \n",
              "...      ...               ...             ...             ...  \n",
              "14159      M         NOT_BLACK              28      Overweight  \n",
              "14160      M         NOT_BLACK              30      Overweight  \n",
              "14161      F  AFRICAN_AMERICAN              41           Obese  \n",
              "14162      M         NOT_BLACK              57      Overweight  \n",
              "14163      M         NOT_BLACK              49          Normal  \n",
              "\n",
              "[14164 rows x 9 columns]"
            ],
            "text/html": [
              "\n",
              "  <div id=\"df-71f19ce0-7b99-476a-b89a-099b51416d0a\">\n",
              "    <div class=\"colab-df-container\">\n",
              "      <div>\n",
              "<style scoped>\n",
              "    .dataframe tbody tr th:only-of-type {\n",
              "        vertical-align: middle;\n",
              "    }\n",
              "\n",
              "    .dataframe tbody tr th {\n",
              "        vertical-align: top;\n",
              "    }\n",
              "\n",
              "    .dataframe thead th {\n",
              "        text-align: right;\n",
              "    }\n",
              "</style>\n",
              "<table border=\"1\" class=\"dataframe\">\n",
              "  <thead>\n",
              "    <tr style=\"text-align: right;\">\n",
              "      <th></th>\n",
              "      <th>bmi</th>\n",
              "      <th>ventilation_duration</th>\n",
              "      <th>sapsii_prob</th>\n",
              "      <th>anchor_age</th>\n",
              "      <th>insurance</th>\n",
              "      <th>gender</th>\n",
              "      <th>race_new</th>\n",
              "      <th>sum_total_turn</th>\n",
              "      <th>enc_bmi</th>\n",
              "    </tr>\n",
              "  </thead>\n",
              "  <tbody>\n",
              "    <tr>\n",
              "      <th>0</th>\n",
              "      <td>26.370238</td>\n",
              "      <td>412800</td>\n",
              "      <td>0.326364</td>\n",
              "      <td>68</td>\n",
              "      <td>Medicare</td>\n",
              "      <td>F</td>\n",
              "      <td>AFRICAN_AMERICAN</td>\n",
              "      <td>105</td>\n",
              "      <td>Overweight</td>\n",
              "    </tr>\n",
              "    <tr>\n",
              "      <th>1</th>\n",
              "      <td>38.946813</td>\n",
              "      <td>25200</td>\n",
              "      <td>0.128048</td>\n",
              "      <td>53</td>\n",
              "      <td>Medicaid</td>\n",
              "      <td>F</td>\n",
              "      <td>NOT_BLACK</td>\n",
              "      <td>11</td>\n",
              "      <td>Morbidly Obese</td>\n",
              "    </tr>\n",
              "    <tr>\n",
              "      <th>2</th>\n",
              "      <td>31.289062</td>\n",
              "      <td>41160</td>\n",
              "      <td>0.116839</td>\n",
              "      <td>50</td>\n",
              "      <td>Other</td>\n",
              "      <td>M</td>\n",
              "      <td>NOT_BLACK</td>\n",
              "      <td>7</td>\n",
              "      <td>Obese</td>\n",
              "    </tr>\n",
              "    <tr>\n",
              "      <th>3</th>\n",
              "      <td>26.588751</td>\n",
              "      <td>62640</td>\n",
              "      <td>0.152870</td>\n",
              "      <td>56</td>\n",
              "      <td>Other</td>\n",
              "      <td>M</td>\n",
              "      <td>NOT_BLACK</td>\n",
              "      <td>10</td>\n",
              "      <td>Overweight</td>\n",
              "    </tr>\n",
              "    <tr>\n",
              "      <th>4</th>\n",
              "      <td>32.950680</td>\n",
              "      <td>30180</td>\n",
              "      <td>0.995367</td>\n",
              "      <td>72</td>\n",
              "      <td>Medicare</td>\n",
              "      <td>F</td>\n",
              "      <td>AFRICAN_AMERICAN</td>\n",
              "      <td>143</td>\n",
              "      <td>Obese</td>\n",
              "    </tr>\n",
              "    <tr>\n",
              "      <th>...</th>\n",
              "      <td>...</td>\n",
              "      <td>...</td>\n",
              "      <td>...</td>\n",
              "      <td>...</td>\n",
              "      <td>...</td>\n",
              "      <td>...</td>\n",
              "      <td>...</td>\n",
              "      <td>...</td>\n",
              "      <td>...</td>\n",
              "    </tr>\n",
              "    <tr>\n",
              "      <th>14159</th>\n",
              "      <td>28.398718</td>\n",
              "      <td>86400</td>\n",
              "      <td>0.096698</td>\n",
              "      <td>47</td>\n",
              "      <td>Other</td>\n",
              "      <td>M</td>\n",
              "      <td>NOT_BLACK</td>\n",
              "      <td>28</td>\n",
              "      <td>Overweight</td>\n",
              "    </tr>\n",
              "    <tr>\n",
              "      <th>14160</th>\n",
              "      <td>27.777778</td>\n",
              "      <td>169200</td>\n",
              "      <td>0.680887</td>\n",
              "      <td>45</td>\n",
              "      <td>Other</td>\n",
              "      <td>M</td>\n",
              "      <td>NOT_BLACK</td>\n",
              "      <td>30</td>\n",
              "      <td>Overweight</td>\n",
              "    </tr>\n",
              "    <tr>\n",
              "      <th>14161</th>\n",
              "      <td>31.662075</td>\n",
              "      <td>48000</td>\n",
              "      <td>0.046739</td>\n",
              "      <td>71</td>\n",
              "      <td>Medicare</td>\n",
              "      <td>F</td>\n",
              "      <td>AFRICAN_AMERICAN</td>\n",
              "      <td>41</td>\n",
              "      <td>Obese</td>\n",
              "    </tr>\n",
              "    <tr>\n",
              "      <th>14162</th>\n",
              "      <td>28.859835</td>\n",
              "      <td>11460</td>\n",
              "      <td>0.017445</td>\n",
              "      <td>41</td>\n",
              "      <td>Other</td>\n",
              "      <td>M</td>\n",
              "      <td>NOT_BLACK</td>\n",
              "      <td>57</td>\n",
              "      <td>Overweight</td>\n",
              "    </tr>\n",
              "    <tr>\n",
              "      <th>14163</th>\n",
              "      <td>24.460295</td>\n",
              "      <td>441180</td>\n",
              "      <td>0.597588</td>\n",
              "      <td>58</td>\n",
              "      <td>Other</td>\n",
              "      <td>M</td>\n",
              "      <td>NOT_BLACK</td>\n",
              "      <td>49</td>\n",
              "      <td>Normal</td>\n",
              "    </tr>\n",
              "  </tbody>\n",
              "</table>\n",
              "<p>14164 rows × 9 columns</p>\n",
              "</div>\n",
              "      <button class=\"colab-df-convert\" onclick=\"convertToInteractive('df-71f19ce0-7b99-476a-b89a-099b51416d0a')\"\n",
              "              title=\"Convert this dataframe to an interactive table.\"\n",
              "              style=\"display:none;\">\n",
              "        \n",
              "  <svg xmlns=\"http://www.w3.org/2000/svg\" height=\"24px\"viewBox=\"0 0 24 24\"\n",
              "       width=\"24px\">\n",
              "    <path d=\"M0 0h24v24H0V0z\" fill=\"none\"/>\n",
              "    <path d=\"M18.56 5.44l.94 2.06.94-2.06 2.06-.94-2.06-.94-.94-2.06-.94 2.06-2.06.94zm-11 1L8.5 8.5l.94-2.06 2.06-.94-2.06-.94L8.5 2.5l-.94 2.06-2.06.94zm10 10l.94 2.06.94-2.06 2.06-.94-2.06-.94-.94-2.06-.94 2.06-2.06.94z\"/><path d=\"M17.41 7.96l-1.37-1.37c-.4-.4-.92-.59-1.43-.59-.52 0-1.04.2-1.43.59L10.3 9.45l-7.72 7.72c-.78.78-.78 2.05 0 2.83L4 21.41c.39.39.9.59 1.41.59.51 0 1.02-.2 1.41-.59l7.78-7.78 2.81-2.81c.8-.78.8-2.07 0-2.86zM5.41 20L4 18.59l7.72-7.72 1.47 1.35L5.41 20z\"/>\n",
              "  </svg>\n",
              "      </button>\n",
              "      \n",
              "  <style>\n",
              "    .colab-df-container {\n",
              "      display:flex;\n",
              "      flex-wrap:wrap;\n",
              "      gap: 12px;\n",
              "    }\n",
              "\n",
              "    .colab-df-convert {\n",
              "      background-color: #E8F0FE;\n",
              "      border: none;\n",
              "      border-radius: 50%;\n",
              "      cursor: pointer;\n",
              "      display: none;\n",
              "      fill: #1967D2;\n",
              "      height: 32px;\n",
              "      padding: 0 0 0 0;\n",
              "      width: 32px;\n",
              "    }\n",
              "\n",
              "    .colab-df-convert:hover {\n",
              "      background-color: #E2EBFA;\n",
              "      box-shadow: 0px 1px 2px rgba(60, 64, 67, 0.3), 0px 1px 3px 1px rgba(60, 64, 67, 0.15);\n",
              "      fill: #174EA6;\n",
              "    }\n",
              "\n",
              "    [theme=dark] .colab-df-convert {\n",
              "      background-color: #3B4455;\n",
              "      fill: #D2E3FC;\n",
              "    }\n",
              "\n",
              "    [theme=dark] .colab-df-convert:hover {\n",
              "      background-color: #434B5C;\n",
              "      box-shadow: 0px 1px 3px 1px rgba(0, 0, 0, 0.15);\n",
              "      filter: drop-shadow(0px 1px 2px rgba(0, 0, 0, 0.3));\n",
              "      fill: #FFFFFF;\n",
              "    }\n",
              "  </style>\n",
              "\n",
              "      <script>\n",
              "        const buttonEl =\n",
              "          document.querySelector('#df-71f19ce0-7b99-476a-b89a-099b51416d0a button.colab-df-convert');\n",
              "        buttonEl.style.display =\n",
              "          google.colab.kernel.accessAllowed ? 'block' : 'none';\n",
              "\n",
              "        async function convertToInteractive(key) {\n",
              "          const element = document.querySelector('#df-71f19ce0-7b99-476a-b89a-099b51416d0a');\n",
              "          const dataTable =\n",
              "            await google.colab.kernel.invokeFunction('convertToInteractive',\n",
              "                                                     [key], {});\n",
              "          if (!dataTable) return;\n",
              "\n",
              "          const docLinkHtml = 'Like what you see? Visit the ' +\n",
              "            '<a target=\"_blank\" href=https://colab.research.google.com/notebooks/data_table.ipynb>data table notebook</a>'\n",
              "            + ' to learn more about interactive tables.';\n",
              "          element.innerHTML = '';\n",
              "          dataTable['output_type'] = 'display_data';\n",
              "          await google.colab.output.renderOutput(dataTable, element);\n",
              "          const docLink = document.createElement('div');\n",
              "          docLink.innerHTML = docLinkHtml;\n",
              "          element.appendChild(docLink);\n",
              "        }\n",
              "      </script>\n",
              "    </div>\n",
              "  </div>\n",
              "  "
            ]
          },
          "metadata": {},
          "execution_count": 25
        }
      ]
    },
    {
      "cell_type": "code",
      "source": [
        "df = pd.read_csv('cleaned_team11.csv')\n",
        "list1 = ['anchor_age', 'race_new', 'bmi', 'sapsii_prob', 'gender', 'insurance']\n",
        "target = ['daily_oc_rate']\n",
        "\n",
        "x = df[list1]\n",
        "y = df[target]\n",
        "model2 = sm.ols('daily_oc_rate ~ race_new', data=df).fit()\n",
        "# print(model1.summary())\n",
        "print(model2.summary2())"
      ],
      "metadata": {
        "colab": {
          "base_uri": "https://localhost:8080/"
        },
        "id": "xUH8CJ4s03-o",
        "outputId": "590723d3-eb7f-48de-bab9-a70251acbd57"
      },
      "execution_count": 41,
      "outputs": [
        {
          "output_type": "stream",
          "name": "stdout",
          "text": [
            "                   Results: Ordinary least squares\n",
            "=====================================================================\n",
            "Model:                OLS              Adj. R-squared:     0.004     \n",
            "Dependent Variable:   daily_oc_rate    AIC:                61823.8169\n",
            "Date:                 2022-12-04 07:51 BIC:                61838.9338\n",
            "No. Observations:     14164            Log-Likelihood:     -30910.   \n",
            "Df Model:             1                F-statistic:        60.67     \n",
            "Df Residuals:         14162            Prob (F-statistic): 7.21e-15  \n",
            "R-squared:            0.004            Scale:              4.6036    \n",
            "---------------------------------------------------------------------\n",
            "                       Coef.  Std.Err.    t    P>|t|   [0.025  0.975]\n",
            "---------------------------------------------------------------------\n",
            "Intercept              4.6815   0.0626 74.8242 0.0000  4.5589  4.8042\n",
            "race_new[T.NOT_BLACK] -0.5089   0.0653 -7.7892 0.0000 -0.6370 -0.3809\n",
            "---------------------------------------------------------------------\n",
            "Omnibus:               2095.769       Durbin-Watson:          1.971  \n",
            "Prob(Omnibus):         0.000          Jarque-Bera (JB):       500.041\n",
            "Skew:                  -0.051         Prob(JB):               0.000  \n",
            "Kurtosis:              2.085          Condition No.:          7      \n",
            "=====================================================================\n",
            "\n"
          ]
        }
      ]
    },
    {
      "cell_type": "code",
      "source": [
        "df = pd.read_csv('cleaned_team11.csv')\n",
        "list1 = ['anchor_age', 'race_new', 'bmi', 'sapsii_prob', 'gender', 'insurance']\n",
        "target = ['daily_oc_rate']\n",
        "\n",
        "x = df[list1]\n",
        "y = df[target]\n",
        "model2 = sm.ols('daily_oc_rate ~ race_new + insurance + gender', data=df).fit()\n",
        "# print(model1.summary())\n",
        "print(model2.summary2())"
      ],
      "metadata": {
        "id": "x07IQPFRPvE1",
        "colab": {
          "base_uri": "https://localhost:8080/"
        },
        "outputId": "37a0e76d-6eae-44c6-8d1b-de3dedf96fd3"
      },
      "execution_count": 42,
      "outputs": [
        {
          "output_type": "stream",
          "name": "stdout",
          "text": [
            "                   Results: Ordinary least squares\n",
            "=====================================================================\n",
            "Model:                OLS              Adj. R-squared:     0.012     \n",
            "Dependent Variable:   daily_oc_rate    AIC:                61713.6962\n",
            "Date:                 2022-12-04 07:51 BIC:                61751.4885\n",
            "No. Observations:     14164            Log-Likelihood:     -30852.   \n",
            "Df Model:             4                F-statistic:        44.43     \n",
            "Df Residuals:         14159            Prob (F-statistic): 3.96e-37  \n",
            "R-squared:            0.012            Scale:              4.5670    \n",
            "---------------------------------------------------------------------\n",
            "                       Coef.  Std.Err.    t    P>|t|   [0.025  0.975]\n",
            "---------------------------------------------------------------------\n",
            "Intercept              5.1598   0.0881 58.5424 0.0000  4.9871  5.3326\n",
            "race_new[T.NOT_BLACK] -0.4443   0.0654 -6.7899 0.0000 -0.5726 -0.3160\n",
            "insurance[T.Medicare] -0.3099   0.0715 -4.3360 0.0000 -0.4500 -0.1698\n",
            "insurance[T.Other]    -0.4584   0.0713 -6.4276 0.0000 -0.5981 -0.3186\n",
            "gender[T.M]           -0.2932   0.0371 -7.8930 0.0000 -0.3660 -0.2204\n",
            "---------------------------------------------------------------------\n",
            "Omnibus:               1911.091       Durbin-Watson:          1.970  \n",
            "Prob(Omnibus):         0.000          Jarque-Bera (JB):       477.807\n",
            "Skew:                  -0.039         Prob(JB):               0.000  \n",
            "Kurtosis:              2.104          Condition No.:          11     \n",
            "=====================================================================\n",
            "\n"
          ]
        }
      ]
    },
    {
      "cell_type": "code",
      "source": [
        "df = pd.read_csv('cleaned_team11.csv')\n",
        "list1 = ['anchor_age', 'race_new', 'bmi', 'sapsii_prob', 'gender', 'insurance']\n",
        "target = ['daily_oc_rate']\n",
        "\n",
        "x = df[list1]\n",
        "y = df[target]\n",
        "model2 = sm.ols('daily_oc_rate ~ race_new + insurance + gender + bmi + sapsii_prob', data=df).fit()\n",
        "# print(model1.summary())\n",
        "print(model2.summary2())"
      ],
      "metadata": {
        "colab": {
          "base_uri": "https://localhost:8080/"
        },
        "id": "KKQhefemHlgK",
        "outputId": "6ca6115d-db85-4516-9959-1adbf1cb0e0a"
      },
      "execution_count": 43,
      "outputs": [
        {
          "output_type": "stream",
          "name": "stdout",
          "text": [
            "                   Results: Ordinary least squares\n",
            "=====================================================================\n",
            "Model:                OLS              Adj. R-squared:     0.037     \n",
            "Dependent Variable:   daily_oc_rate    AIC:                61355.9347\n",
            "Date:                 2022-12-04 07:51 BIC:                61408.8439\n",
            "No. Observations:     14164            Log-Likelihood:     -30671.   \n",
            "Df Model:             6                F-statistic:        91.42     \n",
            "Df Residuals:         14157            Prob (F-statistic): 4.83e-113 \n",
            "R-squared:            0.037            Scale:              4.4524    \n",
            "---------------------------------------------------------------------\n",
            "                       Coef.  Std.Err.    t    P>|t|   [0.025  0.975]\n",
            "---------------------------------------------------------------------\n",
            "Intercept              5.0330   0.1217 41.3498 0.0000  4.7944  5.2715\n",
            "race_new[T.NOT_BLACK] -0.4286   0.0646 -6.6323 0.0000 -0.5552 -0.3019\n",
            "insurance[T.Medicare] -0.4870   0.0712 -6.8405 0.0000 -0.6265 -0.3474\n",
            "insurance[T.Other]    -0.5200   0.0705 -7.3750 0.0000 -0.6582 -0.3818\n",
            "gender[T.M]           -0.2897   0.0367 -7.8960 0.0000 -0.3616 -0.2178\n",
            "bmi                   -0.0083   0.0030 -2.7911 0.0053 -0.0141 -0.0025\n",
            "sapsii_prob            1.4268   0.0753 18.9450 0.0000  1.2792  1.5744\n",
            "---------------------------------------------------------------------\n",
            "Omnibus:               1305.948       Durbin-Watson:          1.965  \n",
            "Prob(Omnibus):         0.000          Jarque-Bera (JB):       395.168\n",
            "Skew:                  -0.017         Prob(JB):               0.000  \n",
            "Kurtosis:              2.182          Condition No.:          222    \n",
            "=====================================================================\n",
            "\n"
          ]
        }
      ]
    },
    {
      "cell_type": "code",
      "source": [],
      "metadata": {
        "id": "IMWj9XYiHqCA"
      },
      "execution_count": null,
      "outputs": []
    }
  ]
}